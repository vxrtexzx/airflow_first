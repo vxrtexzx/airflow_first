{
 "cells": [
  {
   "cell_type": "markdown",
   "metadata": {
    "id": "Z0I-IEE0ohyt"
   },
   "source": [
    "### Настройка Airflow\n",
    "\n",
    "Для начала вам необходимо выполнить ряд команд чтобы настроить окружение для дальнейшей работы, это позволит первое время не заниматься настройкой среды исполнения, а сразу начать писать код и работать с Airflow."
   ]
  },
  {
   "cell_type": "code",
   "execution_count": null,
   "metadata": {
    "id": "0unBvZMyx5H-"
   },
   "outputs": [],
   "source": [
    "# Установка Airflow\n",
    "pip install 'apache-airflow'==2.9\n",
    "\n",
    "pip install apache-airflow-providers-http\n",
    "pip install apache-airflow-providers-telegram\n",
    "\n",
    "airflow db init"
   ]
  },
  {
   "cell_type": "code",
   "execution_count": null,
   "metadata": {
    "id": "Ri_LIxa4z08a"
   },
   "outputs": [],
   "source": [
    "# Создадим необходимые папки\n",
    "mkdir /root/airflow/dags\n",
    "touch /root/airflow/dags/dag.py"
   ]
  },
  {
   "cell_type": "code",
   "execution_count": null,
   "metadata": {
    "id": "6AicRo890Iyp"
   },
   "outputs": [],
   "source": [
    "# Создадим пользователя Airflow\n",
    "airflow users create \\\n",
    "          --username tuleev_n \\\n",
    "          --firstname Nursultan \\\n",
    "          --lastname Tuleev \\\n",
    "          --role Admin \\\n",
    "          --email tuleev_n@auca.kg \\\n",
    "          -p A188938j"
   ]
  },
  {
   "cell_type": "code",
   "execution_count": null,
   "metadata": {
    "id": "Qx1Jfp2O0CBP"
   },
   "outputs": [],
   "source": [
    "# Включим веб-сервер\n",
    "airflow webserver -p 18273 -D"
   ]
  },
  {
   "cell_type": "markdown",
   "metadata": {
    "id": "QZDvtrO63ntq"
   },
   "source": [
    "Поместите в dag.py следующий код.\n",
    "\n",
    "```python\n",
    "from airflow import DAG\n",
    "from datetime import timedelta\n",
    "from airflow.utils.dates import days_ago\n",
    "from airflow.operators.dummy_operator import DummyOperator\n",
    "\n",
    "dag = DAG('dag',schedule_interval=timedelta(days=1), start_date=days_ago(1))\n",
    "t1 = DummyOperator(task_id='task_1', dag=dag)\n",
    "t2 = DummyOperator(task_id='task_2',dag=dag)\n",
    "t3 = DummyOperator(task_id='task_3',dag=dag)\n",
    "t4 = DummyOperator(task_id='task_4',dag=dag)\n",
    "t5 = DummyOperator(task_id='task_5',dag=dag)\n",
    "t6 = DummyOperator(task_id='task_6',dag=dag)\n",
    "t7 = DummyOperator(task_id='task_7',dag=dag)\n",
    "\n",
    "[t1, t2]>>t5\n",
    "t3>>t6\n",
    "[t5,t6] >>  t7\n",
    "t4\n",
    "```"
   ]
  },
  {
   "cell_type": "code",
   "execution_count": null,
   "metadata": {
    "id": "kXlUN86A3m1o"
   },
   "outputs": [],
   "source": [
    "# Запуск шедулера\n",
    "!airflow scheduler -D"
   ]
  },
  {
   "cell_type": "code",
   "execution_count": null,
   "metadata": {
    "id": "A7jJGmYR3nGP"
   },
   "outputs": [],
   "source": [
    "# Последующие команды не имеют отношения к Airflow\n",
    "# Они нужни только для корректной работы веб морды\n",
    "# в среде Google Colab\n",
    "\n",
    "!pip install pyngrok\n",
    "!ngrok authtoken 2pFHQovk2ovAqrSiBqoTzbTWJGh_WKvUyxss4hkpQvRWUWbS # найти его можно https://dashboard.ngrok.com/get-started/setup\n",
    "\n",
    "# Эта команда просто отображет веб интерфейс на другой адрес\n",
    "# Его вы можете найти https://dashboard.ngrok.com/cloud-edge/endpoints\n",
    "# При каждом отключении ссылка будет меняться\n",
    "!nohup ngrok http 18273 > /dev/null &"
   ]
  },
  {
   "cell_type": "markdown",
   "metadata": {
    "id": "6sbOlBAm4fUp"
   },
   "source": [
    "После запуска команды выше, перейдите по адресу в ngrok и подождите  пока появится DAG с именем dag"
   ]
  }
 ],
 "metadata": {
  "colab": {
   "provenance": []
  },
  "kernelspec": {
   "display_name": "Python 3",
   "name": "python3"
  },
  "language_info": {
   "name": "python"
  }
 },
 "nbformat": 4,
 "nbformat_minor": 0
}
